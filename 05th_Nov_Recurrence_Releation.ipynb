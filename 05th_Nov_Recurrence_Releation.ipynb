{
 "cells": [
  {
   "cell_type": "code",
   "execution_count": 1,
   "metadata": {},
   "outputs": [],
   "source": [
    "#  Find the value of T(2) for the recurrence relation T(n) = 3T(n-1) + 12n, given that T(0)=5.\n",
    "#T(0)=5\n",
    "# T(1)=3T(0) + 12*1= 15+12=27\n",
    "\n",
    "\n",
    "#T(2)=3T(1)+12n\n",
    "#T(2)=3T(1)+12*2=3*27+24=105\n",
    "\n",
    "\n",
    "\n"
   ]
  },
  {
   "cell_type": "code",
   "execution_count": 2,
   "metadata": {},
   "outputs": [],
   "source": [
    "# 2. Given a recurrence relation, solve it using the substitution method:\n",
    "\n",
    "# a. T(n) = T(n-1) + c\n",
    "#    T(n-1)=T(n-2)+c\n",
    "#    T(n)= T(n-2)+2c\n",
    "#    T(n)=T(n-k)+ kc  k=n\n",
    "#    T(n)=T(0)+ nc ------------------------>O(1)\n",
    "\n",
    "# b. T(n) = 2T(n/2) + n\n",
    "#    T(n/2)=2T(n/4)+n/2\n",
    "#    T(n)=2*2T(n/4)+n/2+n\n",
    "#    T(n)=2**kT(n/2**k)+k*n/2\n",
    "#    T(n)=2**(log(n))T(n/2**(log(n)))+(log(n))*n/2                2**(log(n))=n\n",
    "#    T(n)=n*T(1)+n(log(n))-----------------------> O(n)\n",
    "\n",
    "\n",
    "# c. T(n) = 2T(n/2) + c\n",
    "#    T(n/2)=2T(n/4)+c\n",
    "#    T(n)=2**2T(n/2**2)+2c\n",
    "#    T(n)=2**kT(n/2**k)+n(n+1)/2c                  \n",
    "#    T(n)=2**(log(n))T(n/2**(log(n)))+n(n+1)/2*c                2**(log(n))=n\n",
    "#    T(n)= nT(1)+n(n+1)/2*c ------------------->O(log(n))\n",
    "\n",
    "# d. T(n) = T(n/2) + c\n",
    "#    T(n/2)=T(n/4)+c\n",
    "#    T(n)=T(n/4)+2c\n",
    "#    T(n)=T(n/2**k)+n(n+1)/2c                                    2**(log(n))=n\n",
    "#    T(n)=T(1)+n(n+1)/2c----------------------->o(log(n))\n"
   ]
  },
  {
   "cell_type": "code",
   "execution_count": null,
   "metadata": {},
   "outputs": [],
   "source": [
    "# 3. Given a recurrence relation, solve it using the recursive tree approach:\n",
    "\n",
    "# a. T(n) = 2T(n-1) +1\n",
    "            #                 T(n)\n",
    "            #                /   \\\n",
    "            #           T(n-1)    T(n-1)\n",
    "            #          /   \\      /     \\\n",
    "            #     T(n-2) T(n-2) T(n-2) T(n-2)\n",
    "            #      / \\    / \\    / \\    / \\\n",
    "            #  ...   ...  ...  ...  ...  ...   ...\n",
    "\n",
    "\n",
    "# b. T(n) = 2T(n/2) + n\n",
    "        #                     T(n)\n",
    "        #                    /   \\\n",
    "        #          T(n/2) + n   T(n/2) + n/2\n",
    "        #          /     \\            /     \\\n",
    "        #  T(n/4) + n/2  T(n/4) + n/4  T(n/4) + n/4  T(n/4) + n/8\n",
    "        #     / \\             / \\         / \\         / \\\n",
    "        # ...   ...         ...   ...     ...   ...     ...\n"
   ]
  }
 ],
 "metadata": {
  "kernelspec": {
   "display_name": "Python 3",
   "language": "python",
   "name": "python3"
  },
  "language_info": {
   "codemirror_mode": {
    "name": "ipython",
    "version": 3
   },
   "file_extension": ".py",
   "mimetype": "text/x-python",
   "name": "python",
   "nbconvert_exporter": "python",
   "pygments_lexer": "ipython3",
   "version": "3.11.5"
  }
 },
 "nbformat": 4,
 "nbformat_minor": 2
}
